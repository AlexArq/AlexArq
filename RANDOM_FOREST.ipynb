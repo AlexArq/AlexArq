{
  "nbformat": 4,
  "nbformat_minor": 0,
  "metadata": {
    "kernelspec": {
      "display_name": "Python 3",
      "language": "python",
      "name": "python3"
    },
    "language_info": {
      "codemirror_mode": {
        "name": "ipython",
        "version": 3
      },
      "file_extension": ".py",
      "mimetype": "text/x-python",
      "name": "python",
      "nbconvert_exporter": "python",
      "pygments_lexer": "ipython3",
      "version": "3.6.12"
    },
    "colab": {
      "name": "RANDOM_FOREST.ipynb",
      "provenance": [],
      "collapsed_sections": [],
      "include_colab_link": true
    }
  },
  "cells": [
    {
      "cell_type": "markdown",
      "metadata": {
        "id": "view-in-github",
        "colab_type": "text"
      },
      "source": [
        "<a href=\"https://colab.research.google.com/github/AlexArq/AlexArq/blob/TFM/RANDOM_FOREST.ipynb\" target=\"_parent\"><img src=\"https://colab.research.google.com/assets/colab-badge.svg\" alt=\"Open In Colab\"/></a>"
      ]
    },
    {
      "cell_type": "markdown",
      "metadata": {
        "id": "51eoMutc-hg4"
      },
      "source": [
        "### LIBRERÍAS"
      ]
    },
    {
      "cell_type": "code",
      "metadata": {
        "id": "rv_N52pn-hg7"
      },
      "source": [
        "import pandas as pd\n",
        "import numpy as np\n",
        "import os\n",
        "import matplotlib.pyplot as plt\n",
        "from pandas import read_csv\n",
        "from timeit import default_timer as timer\n",
        "from sklearn.preprocessing import StandardScaler\n",
        "from sklearn import model_selection\n",
        "from sklearn.metrics import confusion_matrix, ConfusionMatrixDisplay\n",
        "from imblearn.metrics import geometric_mean_score\n",
        "from sklearn.metrics import classification_report\n",
        "from sklearn.metrics import cohen_kappa_score\n",
        "from sklearn import metrics\n",
        "from sklearn.ensemble import RandomForestClassifier\n"
      ],
      "execution_count": null,
      "outputs": []
    },
    {
      "cell_type": "code",
      "metadata": {
        "colab": {
          "base_uri": "https://localhost:8080/"
        },
        "id": "Uu9fS5Yeknke",
        "outputId": "04e8e05e-5683-467a-fe4e-9f08016bb756"
      },
      "source": [
        "from google.colab import drive\n",
        "drive.mount('/content/drive')"
      ],
      "execution_count": null,
      "outputs": [
        {
          "output_type": "stream",
          "text": [
            "Drive already mounted at /content/drive; to attempt to forcibly remount, call drive.mount(\"/content/drive\", force_remount=True).\n"
          ],
          "name": "stdout"
        }
      ]
    },
    {
      "cell_type": "markdown",
      "metadata": {
        "id": "A1TtUKgW-hg8"
      },
      "source": [
        "### DATASET"
      ]
    },
    {
      "cell_type": "code",
      "metadata": {
        "colab": {
          "base_uri": "https://localhost:8080/"
        },
        "id": "SjhJU5tQ-hg9",
        "outputId": "b4de7b34-ee1c-4873-a14d-0c0065af9f36"
      },
      "source": [
        "data_dir = os.path.dirname('/content/drive/My Drive/TFM/')\n",
        "lista = os.listdir(data_dir)\n",
        "lista"
      ],
      "execution_count": null,
      "outputs": [
        {
          "output_type": "execute_result",
          "data": {
            "text/plain": [
              "['VENTANA_G3 (1).csv',\n",
              " 'VENTANA_G3.csv',\n",
              " 'VENTANA_G2.csv',\n",
              " 'VENTANA_G2 (1).csv',\n",
              " 'VENTANA_G3_wauh.csv']"
            ]
          },
          "metadata": {
            "tags": []
          },
          "execution_count": 54
        }
      ]
    },
    {
      "cell_type": "markdown",
      "metadata": {
        "id": "tdgpuXWfghQi"
      },
      "source": [
        "### ENTRENAMIENTO"
      ]
    },
    {
      "cell_type": "code",
      "metadata": {
        "id": "on1DLn8fbarN"
      },
      "source": [
        "for in range (0, len(lista)):\n",
        "  start = timer()\n",
        "  dataset = pd.read_csv(data_dir+'/'+str(lista[i]),sep=',', decimal = '.',na_values= '')\n",
        "  dataset = dataset.fillna(dataset.mean())\n",
        "  atributos = []\n",
        "  for var in list(dataset.columns):\n",
        "    if var[0].isdigit():\n",
        "      atributos.append(var)\n",
        "      atributos.append('CLASE')\n",
        "  variables = dataset.loc[:,atributos]\n",
        "  X = np.array(variables.loc[:,'1_mean':'11_majority'])\n",
        "  Y = np.array(variables.loc[:,'CLASE'])\n",
        "  scaler = StandardScaler()\n",
        "  np.random.seed(12)\n",
        "  X_train, X_test, y_train, y_test = model_selection.train_test_split(X, Y, train_size=0.7)\n",
        "  X_train = scaler.fit_transform(X_train)\n",
        "  X_test = scaler.transform(X_test)\n",
        "  np.random.seed(12)\n",
        "  scoring = {'AUC': 'roc_auc', 'F1 score': 'f1', 'Precision': 'precision', 'Recall': 'recall', 'B_Accuracy': 'balanced_accuracy'}\n",
        "  model = RandomForestClassifier(random_state=98,\n",
        "                               min_samples_leaf = 1,\n",
        "                               min_samples_split = 2,                                       \n",
        "                               n_jobs = -1\n",
        "                               ) \n",
        "  param_grid = {'criterion': ['entropy', 'gini'],\n",
        "              'n_estimators':[10, 50,100,150,200], \n",
        "              'max_features':['sqrt','log2',None]}\n",
        "\n",
        "  RF = model_selection.GridSearchCV(model, param_grid, scoring= scoring, refit = scoring.values[i], cv=10, return_train_score=True)\n",
        "  RF = RF.fit(X_train, y_train)\n",
        "  \n",
        "  RF_Train =RF.predict(X_train)\n",
        "  gmTrain = geometric_mean_score(y_train,RF_Train)\n",
        "\n",
        "  RF_Test = RF.predict(X_test)\n",
        "  gmTest = geometric_mean_score(y_test, RF_Test)\n",
        "\n",
        "  cl_probs = RF.predict_proba(X_test)\n",
        "  cl_probs = cl_probs[:, 1]\n",
        "  cl_auc = metrics.roc_auc_score(y_test, cl_probs)\n",
        "  lr_f1 = metrics.f1_score(y_test, RF_Test)\n",
        "\n",
        "  cm = confusion_matrix(y_test, RF_Test, labels=RF.classes_)\n",
        "  disp = ConfusionMatrixDisplay(confusion_matrix=cm,\n",
        "  display_labels=RF.classes_)\n",
        "\n",
        "  kappa = cohen_kappa_score(y_test, RF_Test)\n",
        "\n",
        "  indicekappa = ['Pobre','Débil', 'Moderado', 'Bueno', 'Muy Bueno']\n",
        "  verindicekappa = []\n",
        "  if kappa < 0.2:\n",
        "      verindicekappa = indicekappa[0]\n",
        "  elif kappa > 0.2 and kappa < 0.4:\n",
        "      verindicekappa = indicekappa[1]\n",
        "  elif kappa > 0.4 and kappa < 0.6:\n",
        "      verindicekappa = indicekappa[2]\n",
        "  elif kappa > 0.6 and kappa < 0.8:\n",
        "      verindicekappa = indicekappa[3]\n",
        "  else:\n",
        "      verindicekappa = indicekappa[4]\n",
        "\n",
        "  model_probs = RF.predict_proba(X_test)\n",
        "  model_probs = model_probs[:, 1]\n",
        "\n",
        "  ns_probs = [0 for _ in range (len (y_test))]\n",
        "  ns_auc = metrics.roc_auc_score(y_test, ns_probs)*100.0\n",
        "\n",
        "  model_auc = metrics.roc_auc_score(y_test, model_probs)*100.0\n",
        "  ns_fpr, ns_tpr, _ = metrics.roc_curve(y_test, ns_probs)\n",
        "  model_fpr, model_tpr, _ = metrics.roc_curve(y_test, model_probs)\n",
        "\n",
        "  print('Archivo: {}\\nMetodo: {}\\nMejores Hiperparámetros: {}\\nMejor puntuación: {}\\nRendimiento: (GM) {}\\nROC AUC: {}\\nF1 score: {}\\nÍndice de Kappa: {}\\nClasificador: {}'.format(lista[i],model,\n",
        "                                                                                       RF.best_params_, \n",
        "                                                                                       round(RF.best_score_,2),\n",
        "                                                                                       round(gmTest*100.0, 2),\n",
        "                                                                                       round(cl_auc*100.0, 2), \n",
        "                                                                                       round(lr_f1*100.0, 2),\n",
        "                                                                                       round(kappa,2),\n",
        "                                                                                       verindicekappa))\n",
        "  \n",
        "  \n",
        "  tiempo_RF_aprender = timer() - start\n",
        "\n",
        "  print (\"Calculados los mejores hiperparámetros en %f segundos\" % tiempo_RF_aprender )\n",
        "\n",
        "\n",
        "\n",
        "\n",
        "\n"
      ],
      "execution_count": null,
      "outputs": []
    }
  ]
}